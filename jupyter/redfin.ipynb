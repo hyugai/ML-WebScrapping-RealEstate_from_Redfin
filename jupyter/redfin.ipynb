{
 "cells": [
  {
   "cell_type": "markdown",
   "metadata": {},
   "source": [
    "# Preparation"
   ]
  },
  {
   "cell_type": "markdown",
   "metadata": {},
   "source": [
    "<b>Load Libraries</b>"
   ]
  },
  {
   "cell_type": "code",
   "execution_count": 1,
   "metadata": {},
   "outputs": [],
   "source": [
    "# bs4\n",
    "import requests\n",
    "from bs4 import BeautifulSoup\n",
    "\n",
    "# selenium\n",
    "from selenium import webdriver\n",
    "from selenium.webdriver.chrome.options import Options\n",
    "from selenium.webdriver.common.by import By\n",
    "from selenium.webdriver.support.ui import Select\n",
    "from selenium.webdriver.chrome.webdriver import WebDriver\n",
    "from selenium.webdriver.remote.webelement import WebElement\n",
    "\n",
    "# data structures\n",
    "import numpy as np\n",
    "import pandas as pd\n",
    "\n",
    "# others\n",
    "import sys, os, re, datetime"
   ]
  },
  {
   "cell_type": "markdown",
   "metadata": {},
   "source": [
    "<b>UDF</b>"
   ]
  },
  {
   "cell_type": "code",
   "execution_count": 2,
   "metadata": {},
   "outputs": [],
   "source": [
    "# get scrapping time\n",
    "def get_scrapping_time() -> str:\n",
    "    return datetime.datetime.now().strftime('%Y-%m-%d %H:%M:%S')"
   ]
  },
  {
   "cell_type": "code",
   "execution_count": 3,
   "metadata": {},
   "outputs": [],
   "source": [
    "# get pages to iterate\n",
    "def get_pages(browser: WebDriver) -> list:\n",
    "    pages = []\n",
    "    for button in browser.find_elements(By.XPATH, \"//span[@class='ButtonLabel']\"):\n",
    "        try:\n",
    "            float(button.text.strip())\n",
    "            pages.append(button)\n",
    "        except:\n",
    "            continue\n",
    "\n",
    "    return pages"
   ]
  },
  {
   "cell_type": "code",
   "execution_count": 4,
   "metadata": {},
   "outputs": [],
   "source": [
    "# extract table from each page\n",
    "def extract_data(rows: WebElement, table: dict) -> None:\n",
    "    keys = list(table.keys)\n",
    "    for row in rows:\n",
    "        ## table\n",
    "        tds = [td.text().strip() for td in enumerate(row.find_elements(By.XPATH, \".//child::td\")) if td.text.strip() != '']\n",
    "        for i, td in enumerate(tds):\n",
    "            table[keys[i]] = td\n",
    "        ## homecard\n",
    "        "
   ]
  },
  {
   "cell_type": "code",
   "execution_count": 5,
   "metadata": {},
   "outputs": [],
   "source": [
    "# get the button for switching to table format\n",
    "def get_table_button(browser):\n",
    "    try:\n",
    "        ## box\n",
    "        button = browser.find_element(By.XPATH, \"//span[@data-text='Table']\")\n",
    "    except:\n",
    "        ## drop-down\n",
    "        button = browser.find_element(By.XPATH, \"//select[@role='combobox']//option[@value='table']\")\n",
    "\n",
    "    return button"
   ]
  },
  {
   "cell_type": "code",
   "execution_count": 6,
   "metadata": {},
   "outputs": [],
   "source": [
    "def login_to_redfin(email: str, password: str, browser: WebDriver) -> None:\n",
    "    browser.implicitly_wait(10)\n",
    "    ## login button\n",
    "    browser.implicitly_wait(10)\n",
    "    browser.find_element(By.XPATH, \"//span[text()='Join / Sign in']\").click()\n",
    "    # email\n",
    "    browser.find_element(By.XPATH, \"//input[@id='emailInput']\").send_keys(email)\n",
    "    browser.find_element(By.XPATH, \"//span[text()='Continue with email']\").click()\n",
    "    browser.find_element(By.XPATH, \"//span[text()='Sign in with email instead']\").click()\n",
    "    ## password\n",
    "    browser.find_element(By.XPATH, \"//input[@id='passwordInput']\").send_keys(password)\n",
    "    ## finish\n",
    "    browser.find_element(By.XPATH, \"//span[text()='Continue with email']\").click()\n",
    "\n",
    "    return None"
   ]
  },
  {
   "cell_type": "markdown",
   "metadata": {},
   "source": [
    "# Scraping - Selenium"
   ]
  },
  {
   "cell_type": "code",
   "execution_count": 7,
   "metadata": {},
   "outputs": [],
   "source": [
    "## options\n",
    "chrome_options = Options()\n",
    "# chrome_options.add_argument('--headless')\n",
    "chrome_options.add_argument('--no-sandbox')\n",
    "user_agent = 'Mozilla/5.0 (X11; Linux x86_64) AppleWebKit/537.36 (KHTML, like Gecko) Chrome/60.0.3112.50 Safari/537.36'\n",
    "chrome_options.add_argument(f'user-agent={user_agent}')\n",
    "## browser\n",
    "browser = webdriver.Chrome(options=chrome_options)\n",
    "browser.implicitly_wait(10)"
   ]
  },
  {
   "cell_type": "code",
   "execution_count": 8,
   "metadata": {},
   "outputs": [],
   "source": [
    "# switch to table format\n",
    "browser.get('https://www.redfin.com/city/29470/IL/Chicago')\n",
    "button = get_table_button(browser)\n",
    "button.click()"
   ]
  },
  {
   "cell_type": "code",
   "execution_count": 9,
   "metadata": {},
   "outputs": [],
   "source": [
    "# login to redfin\n",
    "# email = 'john.lukestein@gmail.com'\n",
    "# password = 'redfin.0504'\n",
    "# login_to_redfin(email, password, browser)"
   ]
  },
  {
   "cell_type": "code",
   "execution_count": 10,
   "metadata": {},
   "outputs": [],
   "source": [
    "# by using this xpath we'll exclude the first table with no rows\n",
    "rows_to_click = browser.find_elements(By.XPATH, \"//table//tbody[@class='tableList']//tr\")\n",
    "# rows_to_click = table.find_elements(By.XPATH, \"//tr\")"
   ]
  },
  {
   "cell_type": "code",
   "execution_count": 16,
   "metadata": {},
   "outputs": [],
   "source": [
    "homecard = browser.find_element(By.XPATH, \"//div[@class='TableViewHomecardContent flex flex-column']\")"
   ]
  },
  {
   "cell_type": "code",
   "execution_count": 27,
   "metadata": {},
   "outputs": [],
   "source": [
    "agent_name = homecard.find_element(By.XPATH, \"//p[@class='ListingAgentCard__name']\").text"
   ]
  },
  {
   "cell_type": "code",
   "execution_count": 24,
   "metadata": {},
   "outputs": [],
   "source": [
    "titles = homecard.find_elements(By.XPATH, \".//descendant::span[@class='title']\")\n",
    "values = homecard.find_elements(By.XPATH, \".//descendant::span[@class='value']\")"
   ]
  },
  {
   "cell_type": "code",
   "execution_count": 28,
   "metadata": {},
   "outputs": [],
   "source": [
    "browser.quit()"
   ]
  }
 ],
 "metadata": {
  "kernelspec": {
   "display_name": "web_scrapping",
   "language": "python",
   "name": "python3"
  },
  "language_info": {
   "codemirror_mode": {
    "name": "ipython",
    "version": 3
   },
   "file_extension": ".py",
   "mimetype": "text/x-python",
   "name": "python",
   "nbconvert_exporter": "python",
   "pygments_lexer": "ipython3",
   "version": "3.11.9"
  }
 },
 "nbformat": 4,
 "nbformat_minor": 2
}
