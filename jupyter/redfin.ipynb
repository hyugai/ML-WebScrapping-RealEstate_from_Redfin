{
 "cells": [
  {
   "cell_type": "markdown",
   "metadata": {},
   "source": [
    "# Preparation"
   ]
  },
  {
   "cell_type": "markdown",
   "metadata": {},
   "source": [
    "<b>Libraries</b>"
   ]
  },
  {
   "cell_type": "code",
   "execution_count": 1,
   "metadata": {},
   "outputs": [],
   "source": [
    "# bs4\n",
    "import requests\n",
    "from bs4 import BeautifulSoup\n",
    "\n",
    "# selenium\n",
    "from selenium import webdriver\n",
    "from selenium.webdriver import ChromeOptions\n",
    "from selenium.webdriver.common.by import By\n",
    "from selenium.webdriver.support.ui import Select\n",
    "from selenium.webdriver.chrome.webdriver import WebDriver\n",
    "from selenium.webdriver.remote.webelement import WebElement\n",
    "\n",
    "# data structures\n",
    "import numpy as np\n",
    "import pandas as pd\n",
    "\n",
    "# database\n",
    "import sqlite3\n",
    "import csv\n",
    "\n",
    "# others\n",
    "import sys, os, re, glob, datetime, time"
   ]
  },
  {
   "cell_type": "markdown",
   "metadata": {},
   "source": [
    "<b>UDF</b>"
   ]
  },
  {
   "cell_type": "code",
   "execution_count": 2,
   "metadata": {},
   "outputs": [],
   "source": [
    "# login to redfin\n",
    "def login_to_redfin(browser: WebDriver, email: str, password: str) -> None:\n",
    "    time.sleep(5)\n",
    "    # begin logging\n",
    "    browser.find_element(By.XPATH, \"//span[text()='Join / Sign in']/..\").click()\n",
    "    \n",
    "    # email\n",
    "    time.sleep(1)\n",
    "    browser.find_element(By.XPATH, \"//input[@name='emailInput']\").send_keys(email)\n",
    "    browser.find_element(By.XPATH, \"//span[text()='Continue with Email']/..\").click()\n",
    "\n",
    "    # password\n",
    "    time.sleep(1)\n",
    "    browser.find_element(By.XPATH, \"//input[@name='passwordInput']\").send_keys(password)\n",
    "    browser.find_element(By.XPATH, \"//span[text()='Continue with Email']/..\").click()\n",
    "\n",
    "    return None"
   ]
  },
  {
   "cell_type": "code",
   "execution_count": 3,
   "metadata": {},
   "outputs": [],
   "source": [
    "# get links to cities' pages\n",
    "def get_cities_links(browser: WebDriver) -> tuple[list, list]:\n",
    "    time.sleep(1)\n",
    "    # get list of cities\n",
    "    cities = browser.find_elements(By.XPATH, f\"//span[text()='Search for homes by city']/following-sibling::ul/child::li\")\n",
    "    \n",
    "    # show more button to get all the names of cities\n",
    "    try:\n",
    "        browser.find_element(By.XPATH, \"//span[text()='Search for homes by city']/parent::*//span[text()='Show more']\").click()\n",
    "    except:\n",
    "        pass\n",
    "\n",
    "    # get link for each city\n",
    "    def _adjust_format(web_ele: WebElement) -> str:\n",
    "        text = web_ele.text.strip().lower()\\\n",
    "            .replace(' real estate', '')\\\n",
    "                .replace(' ', '_')\\\n",
    "                    .replace('.', '')\n",
    "        return text\n",
    "    names = list(map(_adjust_format, cities))\n",
    "    links = [city.find_element(By.XPATH, \".//child::a\").get_attribute('href') for city in cities]\n",
    "\n",
    "    return names, links"
   ]
  },
  {
   "cell_type": "code",
   "execution_count": 4,
   "metadata": {},
   "outputs": [],
   "source": [
    "# get links to download the csv files\n",
    "def get_csv_link(browser: WebDriver) -> str:\n",
    "    link =  browser.find_element(By.XPATH, \"//a[text()='(Download All)']\").get_attribute('href')\n",
    "\n",
    "    return link"
   ]
  },
  {
   "cell_type": "markdown",
   "metadata": {},
   "source": [
    "<b>UDC</b>"
   ]
  },
  {
   "cell_type": "code",
   "execution_count": 5,
   "metadata": {},
   "outputs": [],
   "source": [
    "class CSV_Transformer():\n",
    "    def __init__(self, intermediate_dir: str, target_dir: str, fixed_name: str) -> None:\n",
    "        self.intermediate_dir = intermediate_dir\n",
    "        self.target_dir = target_dir\n",
    "        self.fixed_name = fixed_name\n",
    "\n",
    "    #\n",
    "    def _cldir(self):\n",
    "        files_names = os.listdir(self.intermediate_dir)\n",
    "        for name in files_names:\n",
    "            os.remove(f'{self.intermediate_dir}/{name}')\n",
    "\n",
    "    # \n",
    "    def _create_new_file(self):\n",
    "        try:\n",
    "            file_name = os.listdir(self.intermediate_dir)[0]\n",
    "            # get selected rows\n",
    "            with open(f'{self.intermediate_dir}/{file_name}', 'r+') as f:\n",
    "                reader = csv.reader(f, delimiter=',')\n",
    "                rows = [row for i, row in enumerate(reader) if i != 1]\n",
    "\n",
    "            # add new csv file\n",
    "            with open(f'{self.target_dir}/{self.fixed_name}.csv', 'w+') as f:\n",
    "                writer = csv.writer(f)\n",
    "                writer.writerows(rows)\n",
    "\n",
    "        except Exception as e:\n",
    "            print(e)\n",
    "\n",
    "    # \n",
    "    def _update_file(self):\n",
    "        # error here\n",
    "        with open(f'{self.target_dir}/{self.fixed_name}.csv', 'r+') as f:\n",
    "            reader = csv.reader(f, delimiter=',')\n",
    "            existing_rows = [row for row in reader]\n",
    "\n",
    "        try:\n",
    "            file_name = os.listdir(self.intermediate_dir)[0]\n",
    "            with open(f'{self.intermediate_dir}/{file_name}', 'r+') as f:\n",
    "                reader = csv.reader(f, delimiter=',')\n",
    "                new_rows = [row for row in reader if row not in existing_rows]\n",
    "\n",
    "            # append new rows to the existing file\n",
    "            if new_rows:\n",
    "                with open(f'{self.target_dir}/{self.fixed_name}.csv', 'a+') as f:\n",
    "                    writer = csv.writer(f)\n",
    "                    writer.writerows(new_rows)\n",
    "        except Exception as e:\n",
    "            print(e)\n",
    "\n",
    "    # transform content inside\n",
    "    def transform(self):\n",
    "        if not os.path.exists(f'{self.target_dir}/{self.fixed_name}.csv'):\n",
    "            self._create_new_file()\n",
    "            print(f'Created {self.fixed_name}.csv')\n",
    "        else:\n",
    "            self._update_file()\n",
    "            print(f'Updated {self.fixed_name}.csv')\n",
    "\n",
    "\n",
    "        # clear files for new iteration\n",
    "        self._cldir()"
   ]
  },
  {
   "cell_type": "markdown",
   "metadata": {},
   "source": [
    "# Selenium"
   ]
  },
  {
   "cell_type": "markdown",
   "metadata": {},
   "source": [
    "<b>Preparation</b>"
   ]
  },
  {
   "cell_type": "code",
   "execution_count": 5,
   "metadata": {},
   "outputs": [],
   "source": [
    "# header: user-agent\n",
    "user_agent = 'Mozilla/5.0 (X11; Linux x86_64) AppleWebKit/537.36 (KHTML, like Gecko) Chrome/60.0.3112.50 Safari/537.36'\n",
    "# options\n",
    "chrome_options = ChromeOptions()\n",
    "chrome_options.add_argument(f'user-agent={user_agent}')\n",
    "# browser\n",
    "url_redfin = 'https://www.redfin.com/'\n",
    "browser = webdriver.Chrome(options=chrome_options)\n",
    "browser.get(url_redfin)\n",
    "time.sleep(5)"
   ]
  },
  {
   "cell_type": "code",
   "execution_count": 6,
   "metadata": {},
   "outputs": [],
   "source": [
    "# redfin logging\n",
    "email = 'john.lukestein@gmail.com'\n",
    "password = 'redfin.0504'\n",
    "login_to_redfin(browser, email, password)"
   ]
  },
  {
   "cell_type": "markdown",
   "metadata": {},
   "source": [
    "<b>Store csv links as a txt file</b>"
   ]
  },
  {
   "cell_type": "code",
   "execution_count": 51,
   "metadata": {},
   "outputs": [],
   "source": [
    "# store links downloading csv files in a txt file\n",
    "cities_links = get_cities_links(browser)\n",
    "for link in cities_links:\n",
    "    browser.get(link)\n",
    "    time.sleep(1)\n",
    "    try:\n",
    "        link = get_csv_link(browser)\n",
    "        with open('../resource/data/csv_links.txt', 'a') as f:\n",
    "            f.write(f'{link}\\n')\n",
    "    except:\n",
    "        with open('../resource/data/failed_to_get_csv_link.txt', 'a') as f:\n",
    "            f.write(f'{link}\\n')"
   ]
  },
  {
   "cell_type": "markdown",
   "metadata": {},
   "source": [
    "<b>Store csv links as a table using SQLite</b>"
   ]
  },
  {
   "cell_type": "code",
   "execution_count": null,
   "metadata": {},
   "outputs": [],
   "source": [
    "# get csv links\n",
    "## \n",
    "cities = {'names': None, 'links': None}\n",
    "cities['names'], cities['links'] = get_cities_links(browser)\n",
    "##\n",
    "with sqlite3.connect(r'../resource/data/homes_by_city.db') as conn:\n",
    "    cursor = conn.cursor()\n",
    "    cursor.execute('CREATE TABLE IF NOT EXISTS csv_links (id INTEGER PRIMARY KEY, \\\n",
    "                                                            name TEXT, \\\n",
    "                                                            available INTEGER, \\\n",
    "                                                            link TEXT, \\\n",
    "                                                            scrapped_time TEXT)')\n",
    "    conn.commit()\n",
    "    ### insert data to table\n",
    "    for name, city_link in zip(cities['names'], cities['links']):\n",
    "        ###\n",
    "        browser.get(city_link)\n",
    "        time.sleep(1)\n",
    "        scrapped_time = datetime.datetime.now().strftime(r'%Y-%m-%d %H:%M:%S')\n",
    "        ###\n",
    "        try:\n",
    "            csv_link = get_csv_link(browser)\n",
    "            cursor.execute(\"INSERT INTO csv_links (name, available, link, scrapped_time) \\\n",
    "                                VALUES (?, ?, ?, ?)\", (name, 1, csv_link, scrapped_time))\n",
    "            conn.commit()\n",
    "        except:\n",
    "            cursor.execute(\"INSERT INTO csv_links (name, available, link, scrapped_time)\\\n",
    "                                VALUES (?, ?, ?, ?)\", (name, 0, city_link, scrapped_time))\n",
    "            conn.commit()\n",
    "\n",
    "    cursor.close()"
   ]
  },
  {
   "cell_type": "markdown",
   "metadata": {},
   "source": [
    "<b>Load data from csv links</b>"
   ]
  },
  {
   "cell_type": "markdown",
   "metadata": {},
   "source": [
    "<b>Draft</b>"
   ]
  },
  {
   "cell_type": "code",
   "execution_count": null,
   "metadata": {},
   "outputs": [],
   "source": [
    "# prepare directories\n",
    "cwd = os.getcwd()\n",
    "# intermediate\n",
    "os.chdir('../resource/temp')\n",
    "intermediate_dir=os.getcwd()\n",
    "\n",
    "# target \n",
    "os.chdir('../data/csv/api')\n",
    "target_dir = os.getcwd()\n",
    "os.chdir(cwd)"
   ]
  },
  {
   "cell_type": "code",
   "execution_count": 6,
   "metadata": {},
   "outputs": [],
   "source": [
    "# options for browser\n",
    "user_agent = r'Mozilla/5.0 (X11; Linux x86_64) AppleWebKit/537.36 (KHTML, like Gecko) Chrome/60.0.3112.50 Safari/537.36'\n",
    "chrome_options = ChromeOptions()\n",
    "chrome_options.add_argument(f'user-agent={user_agent}')\n",
    "chrome_options.add_argument('--headless')\n",
    "\n",
    "# directory for meta data\n",
    "prefs = {\"download.default_directory\": intermediate_dir, \n",
    "         \"download.directory_upgrade\": True, \n",
    "         \"download.prompt_for_download\": False}\n",
    "chrome_options.add_experimental_option('prefs', prefs)\n",
    "\n",
    "# connect to redfin webpage\n",
    "url_redfin = 'https://www.redfin.com/'\n",
    "browser = webdriver.Chrome(options=chrome_options)\n",
    "browser.get(url_redfin)\n",
    "time.sleep(5)\n",
    "\n",
    "# login \n",
    "email = 'john.lukestein@gmail.com'\n",
    "password = 'redfin.0504'\n",
    "login_to_redfin(browser, email, password)"
   ]
  },
  {
   "cell_type": "code",
   "execution_count": null,
   "metadata": {},
   "outputs": [],
   "source": [
    "# cities links\n",
    "city = dict()\n",
    "city['names'], city['links'] = get_cities_links(browser)\n",
    "\n",
    "# get data\n",
    "for name, link in zip(city['names'], city['links']):\n",
    "    browser.get(link)\n",
    "    time.sleep(1)\n",
    "    #\n",
    "    try:\n",
    "        browser.find_element(By.XPATH, \"//a[text()='(Download All)']\").click()\n",
    "        time.sleep(5)\n",
    "        #\n",
    "        transfomer = CSV_Transformer(intermediate_dir, target_dir, name)\n",
    "        transfomer.transform()\n",
    "    except:\n",
    "        with open('../resource/data/csv/web_scrapping/links.csv', 'a+') as f:\n",
    "            #\n",
    "            reader = csv.reader(f, delimiter=',')\n",
    "            writer = csv.writer(f)\n",
    "\n",
    "            # \n",
    "            existing_rows = [row for row in reader]\n",
    "            current_row = [name, link]\n",
    "            if current_row not in existing_rows:\n",
    "                writer.writerow(current_row)"
   ]
  },
  {
   "cell_type": "code",
   "execution_count": 19,
   "metadata": {},
   "outputs": [],
   "source": [
    "browser.quit()"
   ]
  }
 ],
 "metadata": {
  "kernelspec": {
   "display_name": "web_scrapping",
   "language": "python",
   "name": "python3"
  },
  "language_info": {
   "codemirror_mode": {
    "name": "ipython",
    "version": 3
   },
   "file_extension": ".py",
   "mimetype": "text/x-python",
   "name": "python",
   "nbconvert_exporter": "python",
   "pygments_lexer": "ipython3",
   "version": "3.11.9"
  }
 },
 "nbformat": 4,
 "nbformat_minor": 2
}
