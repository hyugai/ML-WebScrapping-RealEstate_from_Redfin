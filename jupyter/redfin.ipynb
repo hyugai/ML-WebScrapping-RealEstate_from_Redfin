{
 "cells": [
  {
   "cell_type": "markdown",
   "metadata": {},
   "source": [
    "# Preparation"
   ]
  },
  {
   "cell_type": "markdown",
   "metadata": {},
   "source": [
    "<b>Load Libraries</b>"
   ]
  },
  {
   "cell_type": "code",
   "execution_count": 1,
   "metadata": {},
   "outputs": [],
   "source": [
    "# bs4\n",
    "import requests\n",
    "from bs4 import BeautifulSoup\n",
    "\n",
    "# selenium\n",
    "from selenium import webdriver\n",
    "from selenium.webdriver.chrome.options import Options\n",
    "from selenium.webdriver.common.by import By\n",
    "from selenium.webdriver.support.ui import Select\n",
    "from selenium.webdriver.chrome.webdriver import WebDriver\n",
    "from selenium.webdriver.remote.webelement import WebElement\n",
    "\n",
    "# data structures\n",
    "import numpy as np\n",
    "import pandas as pd\n",
    "\n",
    "# others\n",
    "import sys, os, re, datetime, time"
   ]
  },
  {
   "cell_type": "markdown",
   "metadata": {},
   "source": [
    "<b>UDF</b>"
   ]
  },
  {
   "cell_type": "code",
   "execution_count": 2,
   "metadata": {},
   "outputs": [],
   "source": [
    "# get scrapping time\n",
    "def get_scrapping_time() -> str:\n",
    "    return datetime.datetime.now().strftime('%Y-%m-%d %H:%M:%S')"
   ]
  },
  {
   "cell_type": "code",
   "execution_count": 3,
   "metadata": {},
   "outputs": [],
   "source": [
    "# get pages to iterate\n",
    "def get_pages(browser: WebDriver) -> list:\n",
    "    pages = []\n",
    "    for button in browser.find_elements(By.XPATH, \"//span[@class='ButtonLabel']\"):\n",
    "        try:\n",
    "            float(button.text.strip())\n",
    "            pages.append(button)\n",
    "        except:\n",
    "            continue\n",
    "\n",
    "    return pages"
   ]
  },
  {
   "cell_type": "code",
   "execution_count": 4,
   "metadata": {},
   "outputs": [],
   "source": [
    "# extract data from row\n",
    "def extract_data_from_row(row: WebElement, table: dict) -> None:\n",
    "    # explicit data\n",
    "    tds = [td.text.strip() for td in row.find_elements(By.XPATH, \".//child::td\") if td.text.strip() != '']\n",
    "    keys = list(table.keys())\n",
    "    for i, td in enumerate(tds):\n",
    "        table[keys[i]].append(td)\n",
    "    table[keys[-1]].append(get_scrapping_time())\n",
    "\n",
    "    return None"
   ]
  },
  {
   "cell_type": "code",
   "execution_count": 5,
   "metadata": {},
   "outputs": [],
   "source": [
    "# switch row\n",
    "def switch_row(row: WebElement) -> None:\n",
    "    i = 1\n",
    "    while True:\n",
    "        try:\n",
    "            row.click()\n",
    "            break\n",
    "        except:\n",
    "            print(f'Trial: {i}')\n",
    "            i += 1\n",
    "            time.sleep(1)\n",
    "\n",
    "    return None\n",
    "# extract homecard from row\n",
    "def extract_homecard_from_row(browser: WebDriver, row: WebElement, homecards: dict) -> None:\n",
    "    switch_row(row)\n",
    "    ## homecard\n",
    "    homecard = browser.find_element(By.XPATH, \"//div[@class='TableViewHomecardContent flex flex-column']\")\n",
    "    ## agent's name\n",
    "    try:\n",
    "        agent_name = homecard.find_element(By.XPATH, \"//p[@class='ListingAgentCard__name']\").text\n",
    "        homecards['agent_name'].append(agent_name)\n",
    "    except:\n",
    "        homecards['agent_name'].append(None)\n",
    "    ## titles & values\n",
    "    \"\"\"\n",
    "    Keep re-find elements untile they retrive non-null strings (maybe due to bad connections)\n",
    "    \"\"\"\n",
    "    titles = ['']\n",
    "    while titles[0] == '':\n",
    "        titles = [title.text.strip() for title in homecard.find_elements(By.XPATH, \".//descendant::span[@class='title']\")]\n",
    "        values = [value.text.strip() for value in homecard.find_elements(By.XPATH, \".//descendant::span[@class='value']\")]\n",
    "    ##\n",
    "    keys = [key for key in homecards.keys() if key != 'agent_name']\n",
    "    for key in keys:\n",
    "        if key not in titles:\n",
    "            homecards[key].append(None)\n",
    "        else:\n",
    "            idx = titles.index(key)\n",
    "            homecards[key].append(values[idx])\n",
    "\n",
    "    return None"
   ]
  },
  {
   "cell_type": "code",
   "execution_count": 6,
   "metadata": {},
   "outputs": [],
   "source": [
    "# get the button for switching to table format\n",
    "def get_table_button(browser):\n",
    "    try:\n",
    "        ## box\n",
    "        button = browser.find_element(By.XPATH, \"//span[@data-text='Table']\")\n",
    "    except:\n",
    "        ## drop-down\n",
    "        button = browser.find_element(By.XPATH, \"//select[@role='combobox']//option[@value='table']\")\n",
    "\n",
    "    return button"
   ]
  },
  {
   "cell_type": "code",
   "execution_count": 7,
   "metadata": {},
   "outputs": [],
   "source": [
    "# login\n",
    "def login_to_redfin(email: str, password: str, browser: WebDriver) -> None:\n",
    "    ## login button\n",
    "    browser.implicitly_wait(10)\n",
    "    browser.find_element(By.XPATH, \"//span[text()='Join / Sign in']\").click()\n",
    "    # email\n",
    "    browser.find_element(By.XPATH, \"//input[@id='emailInput']\").send_keys(email)\n",
    "    browser.find_element(By.XPATH, \"//span[text()='Continue with email']\").click()\n",
    "    browser.find_element(By.XPATH, \"//span[text()='Sign in with email instead']\").click()\n",
    "    ## password\n",
    "    browser.find_element(By.XPATH, \"//input[@id='passwordInput']\").send_keys(password)\n",
    "    ## finish\n",
    "    browser.find_element(By.XPATH, \"//span[text()='Continue with email']\").click()\n",
    "\n",
    "    return None"
   ]
  },
  {
   "cell_type": "markdown",
   "metadata": {},
   "source": [
    "# Scraping - Selenium"
   ]
  },
  {
   "cell_type": "code",
   "execution_count": 8,
   "metadata": {},
   "outputs": [],
   "source": [
    "## options\n",
    "chrome_options = Options()\n",
    "# chrome_options.add_argument('--headless')\n",
    "chrome_options.add_argument('--no-sandbox')\n",
    "user_agent = 'Mozilla/5.0 (X11; Linux x86_64) AppleWebKit/537.36 (KHTML, like Gecko) Chrome/60.0.3112.50 Safari/537.36'\n",
    "chrome_options.add_argument(f'user-agent={user_agent}')\n",
    "## browser\n",
    "browser = webdriver.Chrome(options=chrome_options)\n",
    "browser.implicitly_wait(10)"
   ]
  },
  {
   "cell_type": "code",
   "execution_count": 9,
   "metadata": {},
   "outputs": [],
   "source": [
    "# switch to table format\n",
    "browser.get('https://www.redfin.com/city/29470/IL/Chicago')\n",
    "button = get_table_button(browser)\n",
    "button.click()"
   ]
  },
  {
   "cell_type": "code",
   "execution_count": 10,
   "metadata": {},
   "outputs": [],
   "source": [
    "# login to redfin\n",
    "# email = 'john.lukestein@gmail.com'\n",
    "# password = 'redfin.0504'\n",
    "# login_to_redfin(email, password, browser)"
   ]
  },
  {
   "cell_type": "code",
   "execution_count": 11,
   "metadata": {},
   "outputs": [],
   "source": [
    "# by using this xpath we'll exclude the first table with no rows\n",
    "rows_to_click = browser.find_elements(By.XPATH, \"//table//tbody[@class='tableList']//tr\")"
   ]
  },
  {
   "cell_type": "code",
   "execution_count": 12,
   "metadata": {},
   "outputs": [],
   "source": [
    "table = {'address': [], 'location': [], 'price': [], \n",
    "         'beds': [], 'baths': [], 'Sq.Ft': [], \n",
    "         '$/Sq.Ft': [], 'on_redfin': [], 'scrap_date': []}"
   ]
  },
  {
   "cell_type": "code",
   "execution_count": 13,
   "metadata": {},
   "outputs": [],
   "source": [
    "homecards = {'agent_name': [], '$/Sq. Ft.': [], 'On Redfin': [], \n",
    "             'HOA': [], 'Year Built': [], 'Status': []}\n",
    "\n",
    "for row in rows_to_click:\n",
    "    extract_homecard_from_row(browser, row, homecards)"
   ]
  },
  {
   "cell_type": "markdown",
   "metadata": {},
   "source": [
    "# Draft"
   ]
  },
  {
   "cell_type": "code",
   "execution_count": 66,
   "metadata": {},
   "outputs": [],
   "source": [
    "x = browser.find_element(By.XPATH, \"//div[@id='MapHomeCard_0']\").find_element(By.XPATH, \"//script\")"
   ]
  },
  {
   "cell_type": "code",
   "execution_count": 9,
   "metadata": {},
   "outputs": [],
   "source": [
    "user_agent = 'Mozilla/5.0 (X11; Linux x86_64) AppleWebKit/537.36 (KHTML, like Gecko) Chrome/60.0.3112.50 Safari/537.36'\n",
    "r = requests.get('https://www.redfin.com/city/29470/IL/Chicago', headers={'User-Agent': user_agent})\n",
    "soup = BeautifulSoup(r.content, 'html.parser')"
   ]
  },
  {
   "cell_type": "code",
   "execution_count": 49,
   "metadata": {},
   "outputs": [],
   "source": [
    "x = soup.find('div', {'id': 'MapHomeCard_39'}).find('script').text\n",
    "x = [i for i in x if i not in '[]']\n",
    "y = ''.join(x)"
   ]
  },
  {
   "cell_type": "code",
   "execution_count": 50,
   "metadata": {},
   "outputs": [
    {
     "data": {
      "text/plain": [
       "{'@context': 'http://schema.org',\n",
       " 'name': '6831 S Oakley Ave, Chicago, IL 60636',\n",
       " 'url': 'https://www.redfin.com/IL/Chicago/6831-S-Oakley-Ave-60636/home/13936095',\n",
       " 'address': {'@type': 'PostalAddress',\n",
       "  'streetAddress': '6831 S Oakley Ave',\n",
       "  'addressLocality': 'Chicago',\n",
       "  'addressRegion': 'IL',\n",
       "  'postalCode': '60636',\n",
       "  'addressCountry': 'US'},\n",
       " 'geo': {'@type': 'GeoCoordinates',\n",
       "  'latitude': 41.7692403,\n",
       "  'longitude': -87.6805736},\n",
       " 'numberOfRooms': 4,\n",
       " 'floorSize': {'@type': 'QuantitativeValue', 'value': 1796, 'unitCode': 'FTK'},\n",
       " '@type': 'SingleFamilyResidence'}"
      ]
     },
     "execution_count": 50,
     "metadata": {},
     "output_type": "execute_result"
    }
   ],
   "source": [
    "eval(y)[0]"
   ]
  }
 ],
 "metadata": {
  "kernelspec": {
   "display_name": "web_scrapping",
   "language": "python",
   "name": "python3"
  },
  "language_info": {
   "codemirror_mode": {
    "name": "ipython",
    "version": 3
   },
   "file_extension": ".py",
   "mimetype": "text/x-python",
   "name": "python",
   "nbconvert_exporter": "python",
   "pygments_lexer": "ipython3",
   "version": "3.11.9"
  }
 },
 "nbformat": 4,
 "nbformat_minor": 2
}
