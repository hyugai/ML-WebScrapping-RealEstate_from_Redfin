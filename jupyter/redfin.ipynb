{
 "cells": [
  {
   "cell_type": "markdown",
   "metadata": {},
   "source": [
    "# Preparation"
   ]
  },
  {
   "cell_type": "markdown",
   "metadata": {},
   "source": [
    "<b>Libraries</b>"
   ]
  },
  {
   "cell_type": "code",
   "execution_count": 1,
   "metadata": {},
   "outputs": [],
   "source": [
    "# bs4\n",
    "import requests\n",
    "from bs4 import BeautifulSoup\n",
    "\n",
    "# selenium\n",
    "from selenium import webdriver\n",
    "from selenium.webdriver import ChromeOptions\n",
    "from selenium.webdriver.common.by import By\n",
    "from selenium.webdriver.support.ui import Select\n",
    "from selenium.webdriver.chrome.webdriver import WebDriver\n",
    "from selenium.webdriver.remote.webelement import WebElement\n",
    "\n",
    "# data structures\n",
    "import numpy as np\n",
    "import pandas as pd\n",
    "\n",
    "# database\n",
    "import sqlite3\n",
    "\n",
    "# others\n",
    "import sys, os, re, datetime, time"
   ]
  },
  {
   "cell_type": "markdown",
   "metadata": {},
   "source": [
    "<b>UDF</b>"
   ]
  },
  {
   "cell_type": "code",
   "execution_count": 2,
   "metadata": {},
   "outputs": [],
   "source": [
    "# login to redfin\n",
    "def login_to_redfin(browser: WebDriver, email: str, password: str) -> None:\n",
    "    time.sleep(5)\n",
    "    ## begin logging\n",
    "    browser.find_element(By.XPATH, \"//span[text()='Join / Sign in']/..\").click()\n",
    "    ## email\n",
    "    time.sleep(1)\n",
    "    browser.find_element(By.XPATH, \"//input[@name='emailInput']\").send_keys(email)\n",
    "    browser.find_element(By.XPATH, \"//span[text()='Continue with Email']/..\").click()\n",
    "    ## password\n",
    "    time.sleep(1)\n",
    "    browser.find_element(By.XPATH, \"//input[@name='passwordInput']\").send_keys(password)\n",
    "    browser.find_element(By.XPATH, \"//span[text()='Continue with Email']/..\").click()\n",
    "\n",
    "    return None"
   ]
  },
  {
   "cell_type": "code",
   "execution_count": 3,
   "metadata": {},
   "outputs": [],
   "source": [
    "# get links\n",
    "def get_cities_links(browser: WebDriver) -> tuple[list, list]:\n",
    "    time.sleep(1)\n",
    "    ## get list of cities\n",
    "    cities = browser.find_elements(By.XPATH, f\"//span[text()='Search for homes by city']/following-sibling::ul/child::li\")\n",
    "    ## get link for each city\n",
    "    names = [city.text.strip() for city in cities]\n",
    "    links = [city.find_element(By.XPATH, \".//child::a\").get_attribute('href') for city in cities]\n",
    "\n",
    "    return names, links"
   ]
  },
  {
   "cell_type": "code",
   "execution_count": 4,
   "metadata": {},
   "outputs": [],
   "source": [
    "# get link to download the csv file\n",
    "def get_csv_link(browser: WebDriver) -> str:\n",
    "    link =  browser.find_element(By.XPATH, \"//a[text()='(Download All)']\").get_attribute('href')\n",
    "\n",
    "    return link"
   ]
  },
  {
   "cell_type": "markdown",
   "metadata": {},
   "source": [
    "# Selenium"
   ]
  },
  {
   "cell_type": "markdown",
   "metadata": {},
   "source": [
    "<b>Scrapping</b>"
   ]
  },
  {
   "cell_type": "code",
   "execution_count": null,
   "metadata": {},
   "outputs": [],
   "source": [
    "# header: user-agent\n",
    "user_agent = 'Mozilla/5.0 (X11; Linux x86_64) AppleWebKit/537.36 (KHTML, like Gecko) Chrome/60.0.3112.50 Safari/537.36'\n",
    "# options\n",
    "chrome_options = ChromeOptions()\n",
    "chrome_options.add_argument(f'user-agent={user_agent}')\n",
    "# browser\n",
    "url_chicago = 'https://www.redfin.com/city/29470/IL/Chicago'\n",
    "browser = webdriver.Chrome(options=chrome_options)\n",
    "browser.get(url_chicago)\n",
    "browser.implicitly_wait(10)"
   ]
  },
  {
   "cell_type": "code",
   "execution_count": null,
   "metadata": {},
   "outputs": [],
   "source": [
    "email = 'john.lukestein@gmail.com'\n",
    "password = 'redfin.0504'\n",
    "login_to_redfin(browser, email, password)"
   ]
  },
  {
   "cell_type": "markdown",
   "metadata": {},
   "source": [
    "<b>Draft</b>"
   ]
  },
  {
   "cell_type": "code",
   "execution_count": 5,
   "metadata": {},
   "outputs": [],
   "source": [
    "# header: user-agent\n",
    "user_agent = 'Mozilla/5.0 (X11; Linux x86_64) AppleWebKit/537.36 (KHTML, like Gecko) Chrome/60.0.3112.50 Safari/537.36'\n",
    "# options\n",
    "chrome_options = ChromeOptions()\n",
    "chrome_options.add_argument(f'user-agent={user_agent}')\n",
    "# browser\n",
    "url_redfin = 'https://www.redfin.com/'\n",
    "browser = webdriver.Chrome(options=chrome_options)\n",
    "browser.get(url_redfin)\n",
    "time.sleep(5)"
   ]
  },
  {
   "cell_type": "code",
   "execution_count": 6,
   "metadata": {},
   "outputs": [],
   "source": [
    "# redfin logging\n",
    "email = 'john.lukestein@gmail.com'\n",
    "password = 'redfin.0504'\n",
    "login_to_redfin(browser, email, password)"
   ]
  },
  {
   "cell_type": "markdown",
   "metadata": {},
   "source": [
    "Forget to get the name of the city"
   ]
  },
  {
   "cell_type": "code",
   "execution_count": 51,
   "metadata": {},
   "outputs": [],
   "source": [
    "# store links downloading csv files in a txt file\n",
    "cities_links = get_cities_links(browser)\n",
    "for link in cities_links:\n",
    "    browser.get(link)\n",
    "    time.sleep(1)\n",
    "    try:\n",
    "        link = get_csv_link(browser)\n",
    "        with open('../resource/data/csv_links.txt', 'a') as f:\n",
    "            f.write(f'{link}\\n')\n",
    "    except:\n",
    "        with open('../resource/data/failed_to_get_csv_link.txt', 'a') as f:\n",
    "            f.write(f'{link}\\n')"
   ]
  },
  {
   "cell_type": "markdown",
   "metadata": {},
   "source": [
    "Attach the name of each city to the link"
   ]
  },
  {
   "cell_type": "code",
   "execution_count": 12,
   "metadata": {},
   "outputs": [],
   "source": [
    "## get list of cities\n",
    "cities = browser.find_elements(By.XPATH, \"//span[text()='Search for homes by city']/following-sibling::ul/child::li\")"
   ]
  },
  {
   "cell_type": "code",
   "execution_count": 20,
   "metadata": {},
   "outputs": [],
   "source": [
    "# connect to database\n",
    "conn = sqlite3.connect('../resource/data/homes_for_sale_by_city.db')\n",
    "cur = conn.cursor()"
   ]
  },
  {
   "cell_type": "code",
   "execution_count": 25,
   "metadata": {},
   "outputs": [
    {
     "data": {
      "text/plain": [
       "<sqlite3.Cursor at 0x7fa25ecc0e40>"
      ]
     },
     "execution_count": 25,
     "metadata": {},
     "output_type": "execute_result"
    }
   ],
   "source": [
    "cur.execute('DROP TABLE IF EXISTS test')\n",
    "cur.execute('CREATE TABLE test (id INTEGER PRIMARY KEY, \\\n",
    "                                city TEXT, \\\n",
    "                                link TEXT, \\\n",
    "                                UNIQUE(city, link))')"
   ]
  },
  {
   "cell_type": "code",
   "execution_count": 26,
   "metadata": {},
   "outputs": [
    {
     "data": {
      "text/plain": [
       "<sqlite3.Cursor at 0x7fa25ecc0e40>"
      ]
     },
     "execution_count": 26,
     "metadata": {},
     "output_type": "execute_result"
    }
   ],
   "source": [
    "cur.execute('INSERT INTO test (city, link) VALUES (?, ?)', ('New York', 'abc'))"
   ]
  },
  {
   "cell_type": "code",
   "execution_count": null,
   "metadata": {},
   "outputs": [],
   "source": [
    "# prevent duplicated row except the \"id\" column\n",
    "cur.execute('INSERT INTO test (city, link) VALUES (?, ?)', ('New York', 'abc'))\n",
    "cur.execute('INSERT INTO test (city, link) VALUES (?, ?)', ('New York', 'abc'))"
   ]
  },
  {
   "cell_type": "code",
   "execution_count": 12,
   "metadata": {},
   "outputs": [
    {
     "data": {
      "text/plain": [
       "<sqlite3.Cursor at 0x7fa25f5ec0c0>"
      ]
     },
     "execution_count": 12,
     "metadata": {},
     "output_type": "execute_result"
    }
   ],
   "source": [
    "# insert null or leave empty if null into table\n",
    "##\n",
    "cur.execute('INSERT INTO test (city, link) VALUES (?, ?)', ('Texas', None))\n",
    "##\n",
    "cur.execute('INSERT INTO test (city) VALUES (?)', ('Texas',))"
   ]
  },
  {
   "cell_type": "code",
   "execution_count": 24,
   "metadata": {},
   "outputs": [
    {
     "data": {
      "text/plain": [
       "[(1, 'New York', 'abc'), (2, 'New York', 'abc')]"
      ]
     },
     "execution_count": 24,
     "metadata": {},
     "output_type": "execute_result"
    }
   ],
   "source": [
    "cur.execute('SELECT * FROM test').fetchall()"
   ]
  },
  {
   "cell_type": "code",
   "execution_count": 28,
   "metadata": {},
   "outputs": [],
   "source": [
    "cur.close()\n",
    "conn.close()"
   ]
  }
 ],
 "metadata": {
  "kernelspec": {
   "display_name": "web_scrapping",
   "language": "python",
   "name": "python3"
  },
  "language_info": {
   "codemirror_mode": {
    "name": "ipython",
    "version": 3
   },
   "file_extension": ".py",
   "mimetype": "text/x-python",
   "name": "python",
   "nbconvert_exporter": "python",
   "pygments_lexer": "ipython3",
   "version": "3.11.9"
  }
 },
 "nbformat": 4,
 "nbformat_minor": 2
}
